{
  "nbformat": 4,
  "nbformat_minor": 0,
  "metadata": {
    "colab": {
      "provenance": [],
      "authorship_tag": "ABX9TyMrrYy7QirlB2ePy1iR5PRd",
      "include_colab_link": true
    },
    "kernelspec": {
      "name": "python3",
      "display_name": "Python 3"
    },
    "language_info": {
      "name": "python"
    }
  },
  "cells": [
    {
      "cell_type": "markdown",
      "metadata": {
        "id": "view-in-github",
        "colab_type": "text"
      },
      "source": [
        "<a href=\"https://colab.research.google.com/github/Kristoffer-Van-Steemberghe/Practica-1-Estadistica/blob/main/Pr%C3%A1ctica1.ipynb\" target=\"_parent\"><img src=\"https://colab.research.google.com/assets/colab-badge.svg\" alt=\"Open In Colab\"/></a>"
      ]
    },
    {
      "cell_type": "code",
      "execution_count": null,
      "metadata": {
        "id": "9sSqFtT2ddip"
      },
      "outputs": [],
      "source": [
        "# AVISO 1: En caso de presentarse algún error al momento de leer los archivos, ejecutar nuevamente este código\n",
        "\n",
        "# AVISO 2: No olvidar cargar los archivos necesarios '.csv' o '.xlsx' en la sección de 'Archivos'\n",
        "\n",
        "# Primero importamos pandas\n",
        "import pandas as pd"
      ]
    },
    {
      "cell_type": "markdown",
      "source": [
        "# Ejercicio 1\n",
        "**[2 Puntos]** En el archivo *Transporte.csv* disponible [aquí](https://piazza.com/class_profile/get_resource/lscfsylng6w2tu/lv1mwlze2h15sn), se muestra en la variable *GASTO* el gasto en transporte mensual en euros de 59 individuos.\n",
        "\n",
        "(a) Constrasta la hipótesis de que el gasto mensual sea diferente en hombres que en mujeres.\n",
        "\n",
        "(b) En el contraste anterior, ¿es necesario asumir normalidad en los datos? En cualquier caso, contrasta dicha hipótesis de normalidad.\n"
      ],
      "metadata": {
        "id": "13rSztTndl8S"
      }
    },
    {
      "cell_type": "code",
      "source": [
        "# Cargamos en la sección 'Archivos' el archivo Transporte.csv y lo leemos\n",
        "df = pd.read_csv('Transporte.csv')"
      ],
      "metadata": {
        "id": "IfD3te1peUpL"
      },
      "execution_count": null,
      "outputs": []
    },
    {
      "cell_type": "code",
      "source": [
        "# En caso de ocurrir un error ejecutar este código\n",
        "df = pd.read_excel('Transporte.xlsx')"
      ],
      "metadata": {
        "id": "pYzdc1Bcm3s2"
      },
      "execution_count": null,
      "outputs": []
    },
    {
      "cell_type": "code",
      "source": [
        "# Imprimimos el contenido de Transporte.csv o Transporte.xlsx\n",
        "df"
      ],
      "metadata": {
        "id": "7AjdyAF8e9b_"
      },
      "execution_count": null,
      "outputs": []
    },
    {
      "cell_type": "code",
      "source": [
        "# Realizamos el código:\n",
        "\n",
        "import pandas as pd\n",
        "from scipy import stats\n",
        "\n",
        "# Cargar el archivo CSV en un DataFrame, especificando el separador y el tipo de decimal\n",
        "df = pd.read_csv('Transporte.csv', delimiter=';', decimal=',')\n",
        "\n",
        "# Contraste de hipótesis de diferencia de gasto mensual entre hombres y mujeres\n",
        "gasto_hombres = df[df['SEXO'] == 'H']['GASTO'].apply(lambda x: str(x).replace(',', '.')).astype(float)\n",
        "gasto_mujeres = df[df['SEXO'] == 'M']['GASTO'].apply(lambda x: str(x).replace(',', '.')).astype(float)\n",
        "\n",
        "# Realizar el contraste de hipótesis de diferencia de medias (t-test independiente)\n",
        "t_stat, p_value = stats.ttest_ind(gasto_hombres, gasto_mujeres)\n",
        "\n",
        "# Mostrar los resultados del contraste de hipótesis de diferencia de gasto mensual\n",
        "print(f\"T-statistic: {t_stat}\")\n",
        "print(f\"P-value: {p_value}\")\n",
        "\n",
        "# Interpretar el resultado del contraste de diferencia de gasto mensual\n",
        "alpha = 0.05\n",
        "if p_value < alpha:\n",
        "    print(\"Se rechaza la hipótesis nula. Hay evidencia de que el gasto mensual es diferente en hombres que en mujeres.\")\n",
        "else:\n",
        "    print(\"No se puede rechazar la hipótesis nula. No hay suficiente evidencia para afirmar que el gasto mensual es diferente en hombres que en mujeres.\")\n",
        "\n",
        "# Contraste de hipótesis de normalidad en los datos de gasto mensual para hombres y mujeres\n",
        "shapiro_stat_hombres, shapiro_pvalue_hombres = stats.shapiro(gasto_hombres)\n",
        "shapiro_stat_mujeres, shapiro_pvalue_mujeres = stats.shapiro(gasto_mujeres)\n",
        "\n",
        "# Mostrar los resultados del contraste de normalidad\n",
        "print(\"Contraste de normalidad para hombres:\")\n",
        "print(f\"Estadística Shapiro-Wilk: {shapiro_stat_hombres}, p-valor: {shapiro_pvalue_hombres}\")\n",
        "print(\"Contraste de normalidad para mujeres:\")\n",
        "print(f\"Estadística Shapiro-Wilk: {shapiro_stat_mujeres}, p-valor: {shapiro_pvalue_mujeres}\")\n",
        "\n",
        "# Interpretar los resultados del contraste de normalidad\n",
        "alpha_normalidad = 0.05\n",
        "if shapiro_pvalue_hombres > alpha_normalidad and shapiro_pvalue_mujeres > alpha_normalidad:\n",
        "    print(\"No se puede rechazar la hipótesis nula. Los datos parecen seguir una distribución normal en ambos grupos.\")\n",
        "else:\n",
        "    print(\"Se rechaza la hipótesis nula. Los datos no parecen seguir una distribución normal en al menos uno de los grupos.\")"
      ],
      "metadata": {
        "id": "3UP8_lnGfRgr"
      },
      "execution_count": null,
      "outputs": []
    },
    {
      "cell_type": "markdown",
      "source": [
        "# Ejercicio 2\n",
        "**[1 Punto]** En el archivo de datos *Desplazamientos.csv* disponible [aquí](https://piazza.com/class_profile/get_resource/lscfsylng6w2tu/lv1mwlzgfcd5so), se muestra en las variables *TIEMPO* y *TRANSPORTE*, el tiempo requerido y el tipo de transporte utilizado, respectivamente, para el desplazamiento de 40 estudiantes desde su domicilio a su universidad.\n",
        "\n",
        "(a) Constrastar la hipótesis de que la distribución del tiempo de desplazamiento para los estudiantes que utilizan el transporte público sea diferente de los que usan transporte privado.\n",
        "\n",
        "(b) ¿Hay evidencias de que el tiempo de desplazamiento depende del tipo de transporte?"
      ],
      "metadata": {
        "id": "ywvFMsxWflN6"
      }
    },
    {
      "cell_type": "code",
      "source": [
        "# Cargamos en la sección 'Archivos' el archivo Desplazamientos.csv y lo leemos\n",
        "df = pd.read_csv('Desplazamientos.csv')"
      ],
      "metadata": {
        "id": "dgc7STADgfJa"
      },
      "execution_count": null,
      "outputs": []
    },
    {
      "cell_type": "code",
      "source": [
        "# En caso de ocurrir un error ejecutar este código\n",
        "df = pd.read_excel('Desplazamientos.xlsx')"
      ],
      "metadata": {
        "id": "l5Bup39qh3eh"
      },
      "execution_count": null,
      "outputs": []
    },
    {
      "cell_type": "code",
      "source": [
        "# Imprimimos el contenido de Desplazamientos.csv o Desplazamientos.xlsx\n",
        "df"
      ],
      "metadata": {
        "id": "T7GJURb8iJCM"
      },
      "execution_count": null,
      "outputs": []
    },
    {
      "cell_type": "code",
      "source": [
        "# Realizamos el código:\n",
        "\n",
        "import pandas as pd\n",
        "from scipy import stats\n",
        "\n",
        "# Cargar el archivo CSV en un DataFrame\n",
        "df = pd.read_csv('Desplazamientos.csv', delimiter=';', encoding='latin1')\n",
        "\n",
        "# Separar los datos por tipo de transporte\n",
        "transporte_publico = df[df['Transporte'] == 'Publico']['Tiempo']\n",
        "transporte_privado = df[df['Transporte'] == 'Privado']['Tiempo']\n",
        "\n",
        "# Realizar el contraste de hipótesis de diferencia de medias (t-test independiente)\n",
        "t_stat, p_value = stats.ttest_ind(transporte_publico, transporte_privado)\n",
        "\n",
        "# Interpretar y mostrar los resultados del contraste de hipótesis\n",
        "if p_value < 0.05:\n",
        "    print(\"Se rechaza la hipótesis nula. La distribución del tiempo de desplazamiento es diferente entre transporte público y privado.\")\n",
        "else:\n",
        "    print(\"No se rechaza la hipótesis nula. No hay suficiente evidencia para afirmar que la distribución del tiempo de desplazamiento es diferente entre transporte público y privado.\")"
      ],
      "metadata": {
        "id": "vUZyUXRxiWjn"
      },
      "execution_count": null,
      "outputs": []
    },
    {
      "cell_type": "markdown",
      "source": [
        "# Ejercicio 3\n",
        "**[2 Puntos]** El archivo *Edad_ingreso_sem.csv* disponible [aquí](https://piazza.com/class_profile/get_resource/lscfsylng6w2tu/lv1mwlzggi65sp), contiene las fechas de ingreso al Servicio Exterior Mexicano de 953 personas.\n",
        "\n",
        "(a) Dibuja esquemáticamente las funciones de densidad de las edades por sexo.\n",
        "\n",
        "(b) Determina si existe alguna diferencia en las edades de ingreso para hombres y mujeres."
      ],
      "metadata": {
        "id": "M3eeU2f2ivVa"
      }
    },
    {
      "cell_type": "code",
      "source": [
        "# Cargamos en la sección 'Archivos' el archivo Edad_ingreso_sem.csv y lo leemos\n",
        "df = pd.read_csv('Edad_ingreso_sem.csv')"
      ],
      "metadata": {
        "id": "uGJh5Dx2jL22"
      },
      "execution_count": null,
      "outputs": []
    },
    {
      "cell_type": "code",
      "source": [
        "# En caso de ocurrir un error ejecutar este código\n",
        "df = pd.read_excel('Edad_ingreso_sem.xlsx')"
      ],
      "metadata": {
        "id": "LAtvnkPjml1e"
      },
      "execution_count": null,
      "outputs": []
    },
    {
      "cell_type": "code",
      "source": [
        "# Imprimimos el contenido de Edad_ingreso_sem.csv o Edad_ingreso_sem.xlsx\n",
        "df"
      ],
      "metadata": {
        "id": "KKskSIUBjchD"
      },
      "execution_count": null,
      "outputs": []
    },
    {
      "cell_type": "code",
      "source": [
        "# Realizamos el código:\n",
        "\n",
        "import pandas as pd\n",
        "import matplotlib.pyplot as plt\n",
        "import seaborn as sns\n",
        "from scipy import stats\n",
        "\n",
        "# Cargar el archivo CSV\n",
        "df = pd.read_csv('Edad_ingreso_sem.csv')\n",
        "\n",
        "# Convertir las fechas de ingreso al formato adecuado\n",
        "df['FECHA_INGRESO'] = pd.to_datetime(df['FECHA_INGRESO'], errors='coerce')\n",
        "\n",
        "# Eliminar filas con fechas de ingreso inválidas\n",
        "df = df.dropna(subset=['FECHA_INGRESO'])\n",
        "\n",
        "# Graficar las funciones de densidad de las edades por sexo\n",
        "plt.figure(figsize=(10, 6))\n",
        "sns.kdeplot(df[df['GENERO'] == 'H']['FECHA_INGRESO'].dt.year, label='Hombres', shade=True)\n",
        "sns.kdeplot(df[df['GENERO'] == 'M']['FECHA_INGRESO'].dt.year, label='Mujeres', shade=True)\n",
        "plt.xlabel('Edad')\n",
        "plt.ylabel('Densidad')\n",
        "plt.title('Funciones de Densidad de Edades por Género')\n",
        "plt.legend()\n",
        "plt.show()\n",
        "\n",
        "# Determinar si existe alguna diferencia en las edades de ingreso para hombres y mujeres\n",
        "fecha_ingreso_hombres = df[df['GENERO'] == 'H']['FECHA_INGRESO'].dt.year\n",
        "fecha_ingreso_mujeres = df[df['GENERO'] == 'M']['FECHA_INGRESO'].dt.year\n",
        "\n",
        "# Prueba t de Student para comparar las edades de ingreso\n",
        "t_stat, p_value = stats.ttest_ind(fecha_ingreso_hombres, fecha_ingreso_mujeres, nan_policy='omit')\n",
        "\n",
        "# Imprimir el resultado de la prueba\n",
        "if p_value < 0.05:\n",
        "    print(\"Existe una diferencia significativa en las edades de ingreso para hombres y mujeres.\")\n",
        "else:\n",
        "    print(\"No se encuentra una diferencia significativa en las edades de ingreso para hombres y mujeres.\")"
      ],
      "metadata": {
        "id": "K3r_KkTWjqFC"
      },
      "execution_count": null,
      "outputs": []
    },
    {
      "cell_type": "markdown",
      "source": [
        "# Ejercicio 4\n",
        "**[5 Puntos]** En el archivo *Gastotabaco.csv* disponible [aquí](https://piazza.com/class_profile/get_resource/lscfsylng6w2tu/lv1mwlw1wjl5s7), se muestra en las variables *EDAD* y *GASTO*, respectivamente, la edad y el gasto en tabaco de una muestra de fumadores.\n",
        "\n",
        "(a) Dibuja esquemáticamente un diagrama de dispersión que relacione la edad y el gasto en tabaco e indica si existe aparentemente algún tipo de relación entre ambas variables.\n",
        "\n",
        "(b) Indica si existe evidencia estadística de que cuando aumenta la edad, aumenta el gasto en tabaco.\n",
        "\n",
        "(c) Dibuja esquemáticamente la función de distribución empírica del gasto en tabaco y, en la misma gráfica, dibuja la función de distribución teórica de una exponencial de media 15 eurso.\n",
        "\n",
        "(d) Constrasta la hipótesis de que el gasto en tabaco siga una distribución exponencial de media 15 euros.\n",
        "\n",
        "(e) Suponiendo que el modelo exponencial del apartado anterior sea adecuado, calcula la probabilidad de que un fumador gaste más de 30 euros."
      ],
      "metadata": {
        "id": "0b4vWZfXj3L6"
      }
    },
    {
      "cell_type": "code",
      "source": [
        "# Cargamos en la sección 'Archivos' el archivo Gastotabaco.csv y lo leemos\n",
        "df = pd.read_csv('Gastotabaco.csv')"
      ],
      "metadata": {
        "id": "9ux_LU0Hk4a2"
      },
      "execution_count": null,
      "outputs": []
    },
    {
      "cell_type": "code",
      "source": [
        "# En caso de ocurrir un error ejecutar este código\n",
        "df = pd.read_excel('Gastotabaco.xlsx')"
      ],
      "metadata": {
        "id": "v0B_4179lUsa"
      },
      "execution_count": null,
      "outputs": []
    },
    {
      "cell_type": "code",
      "source": [
        "# Imprimimos el contenido de Gastotabaco.csv o Gastotabaco.xlsx\n",
        "df"
      ],
      "metadata": {
        "id": "v8iPiZ4BlJkG"
      },
      "execution_count": null,
      "outputs": []
    },
    {
      "cell_type": "code",
      "source": [
        "# Realizamos el código:\n",
        "\n",
        "import pandas as pd\n",
        "import matplotlib.pyplot as plt\n",
        "import numpy as np\n",
        "from scipy.stats import pearsonr, expon, kstest\n",
        "\n",
        "# Cargar el archivo CSV\n",
        "df = pd.read_csv('Gastotabaco.csv', delimiter=';')\n",
        "\n",
        "# Graficar el diagrama de dispersión entre la edad y el gasto en tabaco\n",
        "plt.scatter(df['EDAD'], df['GASTO'])\n",
        "plt.xlabel('Edad')\n",
        "plt.ylabel('Gasto en Tabaco')\n",
        "plt.title('Diagrama de Dispersión entre Edad y Gasto en Tabaco')\n",
        "plt.show()\n",
        "\n",
        "# Calcular el coeficiente de correlación de Pearson\n",
        "corr, p_value_corr = pearsonr(df['EDAD'], df['GASTO'])\n",
        "\n",
        "# Imprimir el resultado\n",
        "if p_value_corr < 0.05:\n",
        "    print(\"Existe evidencia estadística de que cuando aumenta la edad, aumenta el gasto en tabaco.\")\n",
        "else:\n",
        "    print(\"No existe evidencia estadística de que cuando aumenta la edad, aumenta el gasto en tabaco.\")\n",
        "\n",
        "# Crear una función de distribución empírica\n",
        "def ecdf(data):\n",
        "    n = len(data)\n",
        "    x = np.sort(data)\n",
        "    y = np.arange(1, n+1) / n\n",
        "    return x, y\n",
        "\n",
        "# Obtener la función de distribución empírica del gasto en tabaco\n",
        "x, y = ecdf(df['GASTO'])\n",
        "\n",
        "# Graficar la función de distribución empírica\n",
        "plt.plot(x, y, marker='.', linestyle='none', label='Distribución Empírica')\n",
        "\n",
        "# Graficar la función de distribución teórica exponencial\n",
        "x_exp = np.linspace(0, np.max(df['GASTO']), 100)\n",
        "y_exp = expon.cdf(x_exp, scale=15)  # La media de una distribución exponencial es el parámetro scale\n",
        "plt.plot(x_exp, y_exp, label='Distribución Exponencial (media=15)')\n",
        "\n",
        "plt.xlabel('Gasto en Tabaco')\n",
        "plt.ylabel('Probabilidad Acumulada')\n",
        "plt.title('Función de Distribución de Gasto en Tabaco')\n",
        "plt.legend()\n",
        "plt.show()\n",
        "\n",
        "# Realizar la prueba de Kolmogorov-Smirnov\n",
        "ks_stat, p_value_ks = kstest(df['GASTO'], 'expon', args=(0, 15))\n",
        "\n",
        "# Imprimir el resultado\n",
        "if p_value_ks < 0.05:\n",
        "    print(\"Se rechaza la hipótesis de que el gasto en tabaco siga una distribución exponencial de media 15 euros.\")\n",
        "else:\n",
        "    print(\"No se rechaza la hipótesis de que el gasto en tabaco siga una distribución exponencial de media 15 euros.\")\n",
        "\n",
        "# Calcular la probabilidad de que un fumador gaste más de 30 euros (suponiendo que sigue una distribución exponencial de media 15 euros)\n",
        "probabilidad_mayor_30 = 1 - expon.cdf(30, scale=15)\n",
        "print(\"La probabilidad de que un fumador gaste más de 30 euros es:\", probabilidad_mayor_30)"
      ],
      "metadata": {
        "id": "r5nCISK-l86s"
      },
      "execution_count": null,
      "outputs": []
    }
  ]
}